{
  "nbformat": 4,
  "nbformat_minor": 0,
  "metadata": {
    "colab": {
      "name": "HateSpeechDSP.ipynb",
      "provenance": [],
      "collapsed_sections": []
    },
    "kernelspec": {
      "name": "python3",
      "display_name": "Python 3"
    },
    "language_info": {
      "name": "python"
    }
  },
  "cells": [
    {
      "cell_type": "code",
      "metadata": {
        "colab": {
          "base_uri": "https://localhost:8080/"
        },
        "id": "usdhZxrN0LJO",
        "outputId": "f7ac9c26-2ba7-4450-bcee-3e7f0fdb66ee"
      },
      "source": [
        "!unzip /content/archive.zip"
      ],
      "execution_count": null,
      "outputs": [
        {
          "output_type": "stream",
          "text": [
            "Archive:  /content/archive.zip\n",
            "  inflating: test_tweets_anuFYb8.csv  \n",
            "  inflating: train_E6oV3lV.csv       \n"
          ],
          "name": "stdout"
        }
      ]
    },
    {
      "cell_type": "markdown",
      "metadata": {
        "id": "ePMacYpl1L9v"
      },
      "source": [
        "Import the required libraries"
      ]
    },
    {
      "cell_type": "code",
      "metadata": {
        "id": "XzYmQlwL1Ic7"
      },
      "source": [
        "import pandas as pd\n",
        "import numpy as np\n",
        "from wordcloud import WordCloud\n",
        "from sklearn.feature_extraction.text import TfidfVectorizer, CountVectorizer\n",
        "from sklearn.svm import SVC\n",
        "from sklearn.metrics import accuracy_score, confusion_matrix, classification_report\n",
        "from sklearn.model_selection import train_test_split"
      ],
      "execution_count": null,
      "outputs": []
    },
    {
      "cell_type": "markdown",
      "metadata": {
        "id": "ktn6630a3L_s"
      },
      "source": [
        "Load the train and test data"
      ]
    },
    {
      "cell_type": "code",
      "metadata": {
        "id": "PJL2u3DJ3OVi"
      },
      "source": [
        "train = pd.read_csv('/content/train_E6oV3lV.csv')\n",
        "test = pd.read_csv('/content/test_tweets_anuFYb8.csv')"
      ],
      "execution_count": null,
      "outputs": []
    },
    {
      "cell_type": "markdown",
      "metadata": {
        "id": "MSdm6dCe3fm1"
      },
      "source": [
        "Audit the data"
      ]
    },
    {
      "cell_type": "code",
      "metadata": {
        "colab": {
          "base_uri": "https://localhost:8080/",
          "height": 359
        },
        "id": "VR4i4rAb3gvN",
        "outputId": "b8292c69-1d59-4701-b18f-31a9612af120"
      },
      "source": [
        "train.head(10)"
      ],
      "execution_count": null,
      "outputs": [
        {
          "output_type": "execute_result",
          "data": {
            "text/html": [
              "<div>\n",
              "<style scoped>\n",
              "    .dataframe tbody tr th:only-of-type {\n",
              "        vertical-align: middle;\n",
              "    }\n",
              "\n",
              "    .dataframe tbody tr th {\n",
              "        vertical-align: top;\n",
              "    }\n",
              "\n",
              "    .dataframe thead th {\n",
              "        text-align: right;\n",
              "    }\n",
              "</style>\n",
              "<table border=\"1\" class=\"dataframe\">\n",
              "  <thead>\n",
              "    <tr style=\"text-align: right;\">\n",
              "      <th></th>\n",
              "      <th>id</th>\n",
              "      <th>label</th>\n",
              "      <th>tweet</th>\n",
              "    </tr>\n",
              "  </thead>\n",
              "  <tbody>\n",
              "    <tr>\n",
              "      <th>0</th>\n",
              "      <td>1</td>\n",
              "      <td>0</td>\n",
              "      <td>@user when a father is dysfunctional and is s...</td>\n",
              "    </tr>\n",
              "    <tr>\n",
              "      <th>1</th>\n",
              "      <td>2</td>\n",
              "      <td>0</td>\n",
              "      <td>@user @user thanks for #lyft credit i can't us...</td>\n",
              "    </tr>\n",
              "    <tr>\n",
              "      <th>2</th>\n",
              "      <td>3</td>\n",
              "      <td>0</td>\n",
              "      <td>bihday your majesty</td>\n",
              "    </tr>\n",
              "    <tr>\n",
              "      <th>3</th>\n",
              "      <td>4</td>\n",
              "      <td>0</td>\n",
              "      <td>#model   i love u take with u all the time in ...</td>\n",
              "    </tr>\n",
              "    <tr>\n",
              "      <th>4</th>\n",
              "      <td>5</td>\n",
              "      <td>0</td>\n",
              "      <td>factsguide: society now    #motivation</td>\n",
              "    </tr>\n",
              "    <tr>\n",
              "      <th>5</th>\n",
              "      <td>6</td>\n",
              "      <td>0</td>\n",
              "      <td>[2/2] huge fan fare and big talking before the...</td>\n",
              "    </tr>\n",
              "    <tr>\n",
              "      <th>6</th>\n",
              "      <td>7</td>\n",
              "      <td>0</td>\n",
              "      <td>@user camping tomorrow @user @user @user @use...</td>\n",
              "    </tr>\n",
              "    <tr>\n",
              "      <th>7</th>\n",
              "      <td>8</td>\n",
              "      <td>0</td>\n",
              "      <td>the next school year is the year for exams.ð...</td>\n",
              "    </tr>\n",
              "    <tr>\n",
              "      <th>8</th>\n",
              "      <td>9</td>\n",
              "      <td>0</td>\n",
              "      <td>we won!!! love the land!!! #allin #cavs #champ...</td>\n",
              "    </tr>\n",
              "    <tr>\n",
              "      <th>9</th>\n",
              "      <td>10</td>\n",
              "      <td>0</td>\n",
              "      <td>@user @user welcome here !  i'm   it's so #gr...</td>\n",
              "    </tr>\n",
              "  </tbody>\n",
              "</table>\n",
              "</div>"
            ],
            "text/plain": [
              "   id  label                                              tweet\n",
              "0   1      0   @user when a father is dysfunctional and is s...\n",
              "1   2      0  @user @user thanks for #lyft credit i can't us...\n",
              "2   3      0                                bihday your majesty\n",
              "3   4      0  #model   i love u take with u all the time in ...\n",
              "4   5      0             factsguide: society now    #motivation\n",
              "5   6      0  [2/2] huge fan fare and big talking before the...\n",
              "6   7      0   @user camping tomorrow @user @user @user @use...\n",
              "7   8      0  the next school year is the year for exams.ð...\n",
              "8   9      0  we won!!! love the land!!! #allin #cavs #champ...\n",
              "9  10      0   @user @user welcome here !  i'm   it's so #gr..."
            ]
          },
          "metadata": {
            "tags": []
          },
          "execution_count": 4
        }
      ]
    },
    {
      "cell_type": "code",
      "metadata": {
        "colab": {
          "base_uri": "https://localhost:8080/"
        },
        "id": "pHauafZQi5Sz",
        "outputId": "46c30da0-3906-477a-94e8-91647fe2aa42"
      },
      "source": [
        "train.shape"
      ],
      "execution_count": null,
      "outputs": [
        {
          "output_type": "execute_result",
          "data": {
            "text/plain": [
              "(31962, 3)"
            ]
          },
          "metadata": {
            "tags": []
          },
          "execution_count": 5
        }
      ]
    },
    {
      "cell_type": "code",
      "metadata": {
        "colab": {
          "base_uri": "https://localhost:8080/"
        },
        "id": "uY0Sf5cpi-QM",
        "outputId": "ef654314-5ed4-4335-825f-52444a5b2fa2"
      },
      "source": [
        "train['label'].value_counts()"
      ],
      "execution_count": null,
      "outputs": [
        {
          "output_type": "execute_result",
          "data": {
            "text/plain": [
              "0    29720\n",
              "1     2242\n",
              "Name: label, dtype: int64"
            ]
          },
          "metadata": {
            "tags": []
          },
          "execution_count": 6
        }
      ]
    },
    {
      "cell_type": "code",
      "metadata": {
        "colab": {
          "base_uri": "https://localhost:8080/"
        },
        "id": "LKjq5kLE35tu",
        "outputId": "0e148143-89ed-41d6-b2e9-50a355c11379"
      },
      "source": [
        "train.dtypes"
      ],
      "execution_count": null,
      "outputs": [
        {
          "output_type": "execute_result",
          "data": {
            "text/plain": [
              "id        int64\n",
              "label     int64\n",
              "tweet    object\n",
              "dtype: object"
            ]
          },
          "metadata": {
            "tags": []
          },
          "execution_count": 7
        }
      ]
    },
    {
      "cell_type": "code",
      "metadata": {
        "id": "vqgsgoQI7BHo"
      },
      "source": [
        "Y = train['label']"
      ],
      "execution_count": null,
      "outputs": []
    },
    {
      "cell_type": "code",
      "metadata": {
        "id": "uNflUdUl8sfE"
      },
      "source": [
        "cv = CountVectorizer(stop_words={'english'})\n",
        "X = cv.fit_transform(train['tweet'])"
      ],
      "execution_count": null,
      "outputs": []
    },
    {
      "cell_type": "code",
      "metadata": {
        "colab": {
          "base_uri": "https://localhost:8080/"
        },
        "id": "dGFYLoB-j-qw",
        "outputId": "91ee588f-b8ab-46c7-da1a-5054d88c491f"
      },
      "source": [
        "print(X.shape)"
      ],
      "execution_count": null,
      "outputs": [
        {
          "output_type": "stream",
          "text": [
            "(31962, 41391)\n"
          ],
          "name": "stdout"
        }
      ]
    },
    {
      "cell_type": "markdown",
      "metadata": {
        "id": "Nl8rHYoFVOVA"
      },
      "source": [
        "X is huge and it si compreseed and stored as a sparse matrix,so X.head() will not work"
      ]
    },
    {
      "cell_type": "code",
      "metadata": {
        "colab": {
          "base_uri": "https://localhost:8080/"
        },
        "id": "S1axiIoyVu7G",
        "outputId": "ab99c02a-d9b0-452c-c1f7-6b9c223e476f"
      },
      "source": [
        "type(X)"
      ],
      "execution_count": null,
      "outputs": [
        {
          "output_type": "execute_result",
          "data": {
            "text/plain": [
              "scipy.sparse.csr.csr_matrix"
            ]
          },
          "metadata": {
            "tags": []
          },
          "execution_count": 11
        }
      ]
    },
    {
      "cell_type": "code",
      "metadata": {
        "colab": {
          "base_uri": "https://localhost:8080/"
        },
        "id": "JEz84dLQV0UF",
        "outputId": "78d348db-141a-4320-83c9-13210bdb71b1"
      },
      "source": [
        "X"
      ],
      "execution_count": null,
      "outputs": [
        {
          "output_type": "execute_result",
          "data": {
            "text/plain": [
              "<31962x41391 sparse matrix of type '<class 'numpy.int64'>'\n",
              "\twith 366847 stored elements in Compressed Sparse Row format>"
            ]
          },
          "metadata": {
            "tags": []
          },
          "execution_count": 12
        }
      ]
    },
    {
      "cell_type": "code",
      "metadata": {
        "colab": {
          "base_uri": "https://localhost:8080/"
        },
        "id": "KjLweWXiWKUv",
        "outputId": "0470bac4-e425-48c2-e9ed-be47f65c09a5"
      },
      "source": [
        "cv.get_feature_names()"
      ],
      "execution_count": null,
      "outputs": [
        {
          "output_type": "execute_result",
          "data": {
            "text/plain": [
              "['00',\n",
              " '000',\n",
              " '000001',\n",
              " '001',\n",
              " '0099',\n",
              " '00am',\n",
              " '00h30',\n",
              " '00pm',\n",
              " '01',\n",
              " '0115',\n",
              " '0161',\n",
              " '01926889917',\n",
              " '02',\n",
              " '0266808099',\n",
              " '03',\n",
              " '030916',\n",
              " '03111880779',\n",
              " '033',\n",
              " '0345',\n",
              " '039',\n",
              " '04',\n",
              " '0450',\n",
              " '04pm',\n",
              " '05',\n",
              " '0506823156',\n",
              " '05pm',\n",
              " '06',\n",
              " '0606',\n",
              " '0608',\n",
              " '0609',\n",
              " '0610',\n",
              " '0612',\n",
              " '0613',\n",
              " '0616',\n",
              " '0616ç',\n",
              " '0617',\n",
              " '0618',\n",
              " '0618â',\n",
              " '0619',\n",
              " '0620',\n",
              " '0622',\n",
              " '064',\n",
              " '07',\n",
              " '07788427999',\n",
              " '08',\n",
              " '0830',\n",
              " '09',\n",
              " '09053111156',\n",
              " '095m',\n",
              " '0k',\n",
              " '0shares',\n",
              " '0tolerancemovie',\n",
              " '0ï',\n",
              " '0ð',\n",
              " '10',\n",
              " '100',\n",
              " '1000',\n",
              " '10003',\n",
              " '10007',\n",
              " '1000gifts',\n",
              " '1000th',\n",
              " '1000x',\n",
              " '1000â',\n",
              " '1001',\n",
              " '10014',\n",
              " '10021',\n",
              " '10025',\n",
              " '10040',\n",
              " '100d',\n",
              " '100daysofcode',\n",
              " '100daysofpigpaintings',\n",
              " '100daysoftea',\n",
              " '100faces',\n",
              " '100happydays',\n",
              " '100happydaysâ',\n",
              " '100happysongs',\n",
              " '100k',\n",
              " '100ml',\n",
              " '100â',\n",
              " '101',\n",
              " '1014',\n",
              " '101dalmatians',\n",
              " '101daysofsmiles',\n",
              " '101ð',\n",
              " '1024x589',\n",
              " '10353',\n",
              " '104',\n",
              " '105',\n",
              " '105kg',\n",
              " '106',\n",
              " '107',\n",
              " '1070',\n",
              " '1080',\n",
              " '109',\n",
              " '10a',\n",
              " '10am',\n",
              " '10days',\n",
              " '10hrs',\n",
              " '10k',\n",
              " '10kday',\n",
              " '10kms',\n",
              " '10m',\n",
              " '10meses',\n",
              " '10miler',\n",
              " '10millionmiler',\n",
              " '10min',\n",
              " '10minutes',\n",
              " '10minutestogo',\n",
              " '10moreyrs',\n",
              " '10pm',\n",
              " '10ppm',\n",
              " '10s',\n",
              " '10th',\n",
              " '10vouchers',\n",
              " '10x',\n",
              " '10yr',\n",
              " '11',\n",
              " '110',\n",
              " '11192016',\n",
              " '112',\n",
              " '113days',\n",
              " '114',\n",
              " '115',\n",
              " '116000',\n",
              " '1162',\n",
              " '117',\n",
              " '118',\n",
              " '1180',\n",
              " '119',\n",
              " '11am',\n",
              " '11daystogo',\n",
              " '11inchlatcock',\n",
              " '11j',\n",
              " '11millionsubs',\n",
              " '11pm',\n",
              " '11pt',\n",
              " '11th',\n",
              " '11thmonthsary',\n",
              " '12',\n",
              " '120',\n",
              " '1200',\n",
              " '1200custom',\n",
              " '1200d',\n",
              " '1230',\n",
              " '1235',\n",
              " '123rd',\n",
              " '1240',\n",
              " '125',\n",
              " '1250',\n",
              " '12500',\n",
              " '1270',\n",
              " '127tn',\n",
              " '128',\n",
              " '1280',\n",
              " '12952',\n",
              " '12daystoolong',\n",
              " '12june',\n",
              " '12k',\n",
              " '12mill',\n",
              " '12minm',\n",
              " '12months',\n",
              " '12pm',\n",
              " '12pt',\n",
              " '12th',\n",
              " '12weeksofexerciseâ',\n",
              " '12yrs',\n",
              " '13',\n",
              " '1300',\n",
              " '13479',\n",
              " '1350',\n",
              " '13615',\n",
              " '13671370',\n",
              " '139',\n",
              " '13am',\n",
              " '13cabs',\n",
              " '13daystogo',\n",
              " '13hrs',\n",
              " '13percent',\n",
              " '13th',\n",
              " '13thdocumentary',\n",
              " '13yr',\n",
              " '14',\n",
              " '140',\n",
              " '1400',\n",
              " '14000',\n",
              " '1418now',\n",
              " '144',\n",
              " '14509',\n",
              " '146',\n",
              " '1465403833',\n",
              " '1465483507',\n",
              " '1465491180',\n",
              " '1465518559',\n",
              " '1465521171',\n",
              " '1465539660',\n",
              " '1465594163',\n",
              " '1465615732',\n",
              " '1465624891',\n",
              " '1465668067',\n",
              " '1465668788',\n",
              " '1465729992',\n",
              " '1465748450',\n",
              " '1465876849',\n",
              " '1466015800',\n",
              " '1466047260',\n",
              " '1466117543',\n",
              " '1466130990',\n",
              " '1466131487',\n",
              " '1466146848',\n",
              " '1466161951',\n",
              " '1466254855',\n",
              " '1466257480',\n",
              " '1466278135',\n",
              " '1466316751',\n",
              " '1466319641',\n",
              " '1466323241',\n",
              " '1466356358',\n",
              " '1466357796',\n",
              " '1466360435',\n",
              " '1466388736',\n",
              " '147',\n",
              " '149',\n",
              " '14days',\n",
              " '14june',\n",
              " '14th',\n",
              " '14weeks',\n",
              " '14â',\n",
              " '15',\n",
              " '150',\n",
              " '1500',\n",
              " '15000',\n",
              " '150202',\n",
              " '150kg',\n",
              " '151',\n",
              " '154',\n",
              " '157',\n",
              " '158lbsâ',\n",
              " '1592',\n",
              " '15am',\n",
              " '15egsc',\n",
              " '15july',\n",
              " '15k',\n",
              " '15pm',\n",
              " '15th',\n",
              " '15ì',\n",
              " '16',\n",
              " '160',\n",
              " '16026',\n",
              " '160327',\n",
              " '160613',\n",
              " '160618',\n",
              " '160619â',\n",
              " '161',\n",
              " '161618',\n",
              " '162',\n",
              " '1621',\n",
              " '1629ó¾',\n",
              " '165',\n",
              " '168',\n",
              " '16gb',\n",
              " '16h',\n",
              " '16june',\n",
              " '16juni',\n",
              " '16mm',\n",
              " '16th',\n",
              " '16thjune',\n",
              " '16y',\n",
              " '16years',\n",
              " '16yrs',\n",
              " '17',\n",
              " '170',\n",
              " '171',\n",
              " '171m',\n",
              " '174',\n",
              " '1744',\n",
              " '175',\n",
              " '178',\n",
              " '17june',\n",
              " '17th',\n",
              " '17weeks',\n",
              " '17yo',\n",
              " '18',\n",
              " '1800s',\n",
              " '1803',\n",
              " '182',\n",
              " '1848',\n",
              " '1855',\n",
              " '1861',\n",
              " '187',\n",
              " '1882',\n",
              " '18hourheels',\n",
              " '18june2016',\n",
              " '18mm',\n",
              " '18mth',\n",
              " '18th',\n",
              " '18thâ',\n",
              " '18yearsold',\n",
              " '18æ',\n",
              " '19',\n",
              " '190k',\n",
              " '1926',\n",
              " '192chandragupta',\n",
              " '1930',\n",
              " '1930s',\n",
              " '1933',\n",
              " '1940',\n",
              " '1942',\n",
              " '195',\n",
              " '1950',\n",
              " '1956',\n",
              " '195daystogo',\n",
              " '1960',\n",
              " '1960s',\n",
              " '1962',\n",
              " '1963',\n",
              " '1964',\n",
              " '1966',\n",
              " '1967',\n",
              " '1968',\n",
              " '1975',\n",
              " '1976',\n",
              " '1977',\n",
              " '1980s',\n",
              " '1981',\n",
              " '1982',\n",
              " '1983',\n",
              " '1984',\n",
              " '1987',\n",
              " '1989',\n",
              " '1992',\n",
              " '1994',\n",
              " '1995',\n",
              " '1995â',\n",
              " '1996',\n",
              " '1997',\n",
              " '1998',\n",
              " '1999',\n",
              " '19days',\n",
              " '19th',\n",
              " '19yr',\n",
              " '19â',\n",
              " '1a',\n",
              " '1afilm',\n",
              " '1am',\n",
              " '1aã',\n",
              " '1b',\n",
              " '1d',\n",
              " '1dad',\n",
              " '1day',\n",
              " '1dayleft',\n",
              " '1dbetweenus',\n",
              " '1dfana',\n",
              " '1dspecials',\n",
              " '1ea',\n",
              " '1gabba',\n",
              " '1gaâ',\n",
              " '1gâ',\n",
              " '1hitmusicstation',\n",
              " '1hr',\n",
              " '1in5',\n",
              " '1k',\n",
              " '1l',\n",
              " '1linewed',\n",
              " '1love',\n",
              " '1m25s',\n",
              " '1monthtogo',\n",
              " '1more',\n",
              " '1night',\n",
              " '1of',\n",
              " '1pm',\n",
              " '1pun',\n",
              " '1q',\n",
              " '1s',\n",
              " '1st',\n",
              " '1stactivity',\n",
              " '1stammendment',\n",
              " '1stgame',\n",
              " '1struggle',\n",
              " '1stsoloalbum',\n",
              " '1stsoloalbumleejonghyun',\n",
              " '1sttime',\n",
              " '1stvoteever',\n",
              " '1week3days',\n",
              " '1weektogo',\n",
              " '1world',\n",
              " '1year',\n",
              " '1year3monthsâ',\n",
              " '1yearagâ',\n",
              " '1yf',\n",
              " '1yr',\n",
              " '1ï',\n",
              " '1ð',\n",
              " '20',\n",
              " '200',\n",
              " '2000',\n",
              " '2000steps',\n",
              " '2001',\n",
              " '2002',\n",
              " '2004',\n",
              " '2005',\n",
              " '2006',\n",
              " '2007',\n",
              " '2008',\n",
              " '200k',\n",
              " '200m',\n",
              " '200yrs',\n",
              " '2010',\n",
              " '2011',\n",
              " '2012',\n",
              " '2013',\n",
              " '2014',\n",
              " '20141023',\n",
              " '2015',\n",
              " '2016',\n",
              " '20160611',\n",
              " '20160612',\n",
              " '20160619',\n",
              " '2016election',\n",
              " '2016highlights',\n",
              " '2016in4words',\n",
              " '2016in4wordsâ',\n",
              " '2016in4wordâ',\n",
              " '2016in4worlds',\n",
              " '2016in4â',\n",
              " '2016inâ',\n",
              " '2016iâ',\n",
              " '2016neotour',\n",
              " '2016release',\n",
              " '2016â',\n",
              " '2017',\n",
              " '2017fail',\n",
              " '2017in3words',\n",
              " '2017in3wordsâ',\n",
              " '2017pleasecome',\n",
              " '2018',\n",
              " '201â',\n",
              " '2020',\n",
              " '2023',\n",
              " '2026',\n",
              " '2077',\n",
              " '20days',\n",
              " '20flaglerstreet',\n",
              " '20hrs',\n",
              " '20k',\n",
              " '20km',\n",
              " '20likes',\n",
              " '20million',\n",
              " '20mins',\n",
              " '20monthsold',\n",
              " '20poundnote',\n",
              " '20th',\n",
              " '20yrs',\n",
              " '20â',\n",
              " '20æ',\n",
              " '21',\n",
              " '2100',\n",
              " '214lbs',\n",
              " '218',\n",
              " '21century',\n",
              " '21ceâ',\n",
              " '21hrlater',\n",
              " '21m49s',\n",
              " '21pilots',\n",
              " '21st',\n",
              " '21thbihday',\n",
              " '21yrs',\n",
              " '21â',\n",
              " '21ð',\n",
              " '22',\n",
              " '220',\n",
              " '22092016',\n",
              " '220skinnywraps',\n",
              " '225',\n",
              " '226',\n",
              " '226m',\n",
              " '228',\n",
              " '229',\n",
              " '229lbs',\n",
              " '22drivers',\n",
              " '22g',\n",
              " '22nd',\n",
              " '22ndbihday',\n",
              " '22ndjuly2016',\n",
              " '22ð',\n",
              " '23',\n",
              " '230',\n",
              " '2311',\n",
              " '23181573',\n",
              " '233',\n",
              " '235',\n",
              " '238',\n",
              " '23m',\n",
              " '23rd',\n",
              " '23years',\n",
              " '23â',\n",
              " '24',\n",
              " '240',\n",
              " '241ornothing',\n",
              " '249',\n",
              " '24h',\n",
              " '24hoursinpolice',\n",
              " '24hrs',\n",
              " '24lm',\n",
              " '24th',\n",
              " '24yoder',\n",
              " '24â',\n",
              " '25',\n",
              " '250',\n",
              " '250days',\n",
              " '257',\n",
              " '25mm',\n",
              " '25th',\n",
              " '25years',\n",
              " '25yearsstrong',\n",
              " '26',\n",
              " '260',\n",
              " '265',\n",
              " '26551',\n",
              " '268',\n",
              " '26candles',\n",
              " '26m',\n",
              " '26th',\n",
              " '27',\n",
              " '2700',\n",
              " '2720',\n",
              " '27th',\n",
              " '28',\n",
              " '280',\n",
              " '2800',\n",
              " '2840',\n",
              " '2850',\n",
              " '289',\n",
              " '28jun',\n",
              " '28lbsdown',\n",
              " '28th',\n",
              " '28weekspregnant',\n",
              " '28yos',\n",
              " '28ë',\n",
              " '29',\n",
              " '2900',\n",
              " '294',\n",
              " '294b',\n",
              " '298',\n",
              " '29am',\n",
              " '29hrs',\n",
              " '29may',\n",
              " '29th',\n",
              " '29thwithrisp',\n",
              " '29weeks',\n",
              " '2_pearls',\n",
              " '2a',\n",
              " '2amp',\n",
              " '2b',\n",
              " '2bcagency',\n",
              " '2bcâ',\n",
              " '2bear',\n",
              " '2c',\n",
              " '2day',\n",
              " '2dayd',\n",
              " '2days',\n",
              " '2daysleft',\n",
              " '2do',\n",
              " '2fa',\n",
              " '2have2',\n",
              " '2hear',\n",
              " '2horrific',\n",
              " '2k',\n",
              " '2k15',\n",
              " '2k16',\n",
              " '2k16ð',\n",
              " '2keep',\n",
              " '2kfollowers',\n",
              " '2lb',\n",
              " '2leaps',\n",
              " '2likes',\n",
              " '2line',\n",
              " '2m',\n",
              " '2miles',\n",
              " '2mill',\n",
              " '2minutebeachclean',\n",
              " '2month',\n",
              " '2more',\n",
              " '2moro',\n",
              " '2mororider',\n",
              " '2morro',\n",
              " '2morrow',\n",
              " '2muchpower',\n",
              " '2nd',\n",
              " '2ndamendment',\n",
              " '2ne1',\n",
              " '2night',\n",
              " '2nite',\n",
              " '2nites',\n",
              " '2of2',\n",
              " '2off',\n",
              " '2our',\n",
              " '2outs',\n",
              " '2pac',\n",
              " '2play',\n",
              " '2pm',\n",
              " '2q',\n",
              " '2raise',\n",
              " '2s',\n",
              " '2sharia',\n",
              " '2sisters',\n",
              " '2stand',\n",
              " '2tell',\n",
              " '2the',\n",
              " '2think',\n",
              " '2trains',\n",
              " '2weeks',\n",
              " '2weekstoday',\n",
              " '2wks',\n",
              " '2x04',\n",
              " '2year',\n",
              " '2years',\n",
              " '2yearsâ',\n",
              " '2yo',\n",
              " '2young',\n",
              " '2yr',\n",
              " '2â',\n",
              " '2ã',\n",
              " '2ð',\n",
              " '30',\n",
              " '300',\n",
              " '3000',\n",
              " '300dayshappy',\n",
              " '300k',\n",
              " '300th',\n",
              " '301',\n",
              " '302',\n",
              " '303gallery',\n",
              " '30am',\n",
              " '30bihday',\n",
              " '30daylifechallenge',\n",
              " '30daysofbagrrys',\n",
              " '30daysofcreation',\n",
              " '30dayswild',\n",
              " '30for30',\n",
              " '30isthenew20',\n",
              " '30pm',\n",
              " '30pmet',\n",
              " '30s',\n",
              " '30stm',\n",
              " '30th',\n",
              " '30thð',\n",
              " '30tomorrow',\n",
              " '30æ',\n",
              " '31',\n",
              " '3102',\n",
              " '316xnfg',\n",
              " '318',\n",
              " '319',\n",
              " '31st',\n",
              " '31today',\n",
              " '32',\n",
              " '321',\n",
              " '327',\n",
              " '32minutes',\n",
              " '33',\n",
              " '330',\n",
              " '3311',\n",
              " '333',\n",
              " '33333',\n",
              " '3334',\n",
              " '335',\n",
              " '336lbs',\n",
              " '33hr',\n",
              " '33th',\n",
              " '33weeks',\n",
              " '33æ',\n",
              " '34',\n",
              " '3425',\n",
              " '349',\n",
              " '34th',\n",
              " '35',\n",
              " '350',\n",
              " '350s',\n",
              " '357',\n",
              " '35mins',\n",
              " '35th',\n",
              " '36',\n",
              " '360',\n",
              " '3600',\n",
              " '360lifestyle',\n",
              " '360video',\n",
              " '363',\n",
              " '3640',\n",
              " '365',\n",
              " '365black',\n",
              " '365bâ',\n",
              " '366',\n",
              " '366days',\n",
              " '366photos2016',\n",
              " '36b',\n",
              " '36weeks',\n",
              " '37',\n",
              " '375b',\n",
              " '37days',\n",
              " '38',\n",
              " '3818',\n",
              " '386',\n",
              " '3866',\n",
              " '38billion',\n",
              " '39',\n",
              " '391',\n",
              " '3aday',\n",
              " '3am',\n",
              " '3athlonlife',\n",
              " '3b',\n",
              " '3become4',\n",
              " '3bookstogo',\n",
              " '3bâ',\n",
              " '3d',\n",
              " '3days',\n",
              " '3daysleft',\n",
              " '3dcommerce',\n",
              " '3ddesign',\n",
              " '3dhâ',\n",
              " '3dmodelling',\n",
              " '3dprint',\n",
              " '3dprinting',\n",
              " '3fridaynights',\n",
              " '3g',\n",
              " '3gswing',\n",
              " '3hrs',\n",
              " '3k',\n",
              " '3lines',\n",
              " '3m',\n",
              " '3mi',\n",
              " '3months',\n",
              " '3pm',\n",
              " '3qw',\n",
              " '3rd',\n",
              " '3rdplace',\n",
              " '3rdâ',\n",
              " '3rs',\n",
              " '3thousand',\n",
              " '3to6',\n",
              " '3x',\n",
              " '3yearold',\n",
              " '3years',\n",
              " '3yearsinarow',\n",
              " '3yearswithbts',\n",
              " '3yr',\n",
              " '40',\n",
              " '400',\n",
              " '4000',\n",
              " '404',\n",
              " '40404',\n",
              " '405',\n",
              " '407',\n",
              " '40pm',\n",
              " '40points',\n",
              " '40s',\n",
              " '40th',\n",
              " '40years',\n",
              " '41',\n",
              " '410',\n",
              " '4140',\n",
              " '419b',\n",
              " '41s',\n",
              " '42',\n",
              " '420',\n",
              " '4200',\n",
              " '4256px',\n",
              " '42b',\n",
              " '42k',\n",
              " '42ndstreet',\n",
              " '43',\n",
              " '4300',\n",
              " '4330',\n",
              " '435',\n",
              " '43hr',\n",
              " '44',\n",
              " '4440',\n",
              " '44years',\n",
              " '45',\n",
              " '45am',\n",
              " '45pm',\n",
              " '45th',\n",
              " '45y',\n",
              " '46',\n",
              " '4601674919',\n",
              " '47',\n",
              " '475',\n",
              " '4798',\n",
              " '47days',\n",
              " '48',\n",
              " '484',\n",
              " '48hrs',\n",
              " '48th',\n",
              " '48thweeksary',\n",
              " '49',\n",
              " '49287',\n",
              " '49ers',\n",
              " '49irls',\n",
              " '4am',\n",
              " '4b',\n",
              " '4bâ',\n",
              " '4c',\n",
              " '4daystogokianandjc',\n",
              " '4give',\n",
              " '4glte',\n",
              " '4hr',\n",
              " '4k',\n",
              " '4likeâ',\n",
              " '4m',\n",
              " '4mansquad',\n",
              " '4maps',\n",
              " '4minute',\n",
              " '4minuteforever',\n",
              " '4minutepleasestaytogether',\n",
              " '4minutepleasestaywithus',\n",
              " '4o4o4',\n",
              " '4pm',\n",
              " '4practice',\n",
              " '4rm',\n",
              " '4s',\n",
              " '4sho',\n",
              " '4spreading',\n",
              " '4st',\n",
              " '4stone11lb',\n",
              " '4th',\n",
              " '4thimpact',\n",
              " '4thplacer',\n",
              " '4u',\n",
              " '4ver',\n",
              " '4way',\n",
              " '4wd',\n",
              " '4weeks',\n",
              " '4y',\n",
              " '4yearsofpkdh',\n",
              " '4â',\n",
              " '50',\n",
              " '500',\n",
              " '5000',\n",
              " '503',\n",
              " '506iv',\n",
              " '50900',\n",
              " '50am',\n",
              " '50and',\n",
              " '50days',\n",
              " '50dead',\n",
              " '50mhz',\n",
              " '50mm',\n",
              " '50p',\n",
              " '50reasonstolovepkn',\n",
              " '50sborn',\n",
              " '50th',\n",
              " '51',\n",
              " '510',\n",
              " '52',\n",
              " '52b',\n",
              " '53',\n",
              " '530show',\n",
              " '53injured',\n",
              " '54',\n",
              " '541',\n",
              " '549',\n",
              " '55',\n",
              " '550',\n",
              " '55am',\n",
              " '55kg',\n",
              " '55th',\n",
              " '56',\n",
              " '560',\n",
              " '561',\n",
              " '564943',\n",
              " '566',\n",
              " '57',\n",
              " '5739',\n",
              " '5795',\n",
              " '58',\n",
              " '58000',\n",
              " '58days',\n",
              " '59',\n",
              " '59000',\n",
              " '59am',\n",
              " '5am',\n",
              " '5b',\n",
              " '5bn',\n",
              " '5days',\n",
              " '5h',\n",
              " '5hardweeksuntilsummerð',\n",
              " '5hrs',\n",
              " '5k',\n",
              " '5kaday',\n",
              " '5kcal',\n",
              " '5kg',\n",
              " '5lbs',\n",
              " '5min',\n",
              " '5minutes',\n",
              " '5mm',\n",
              " '5p',\n",
              " '5pm',\n",
              " '5ps',\n",
              " '5secondsofsummerconce',\n",
              " '5sos',\n",
              " '5sosmannheim',\n",
              " '5star',\n",
              " '5teams',\n",
              " '5th',\n",
              " '5thfloor',\n",
              " '5v',\n",
              " '5wordtrumplethinskin',\n",
              " '5x11',\n",
              " '5years',\n",
              " '5yo',\n",
              " '5yr',\n",
              " '5yrs',\n",
              " '5ï',\n",
              " '60',\n",
              " '600',\n",
              " '600k',\n",
              " '600x600',\n",
              " '603',\n",
              " '6071',\n",
              " '608',\n",
              " '60mill',\n",
              " '60mins',\n",
              " '60minutes',\n",
              " '60pa',\n",
              " '60s',\n",
              " '61',\n",
              " '610',\n",
              " '613',\n",
              " '614',\n",
              " '614day',\n",
              " '615',\n",
              " '6150',\n",
              " '616dayð',\n",
              " '61716',\n",
              " '6175',\n",
              " '62',\n",
              " '620',\n",
              " '625',\n",
              " '63',\n",
              " '638',\n",
              " '6380',\n",
              " '64',\n",
              " '641',\n",
              " '64â',\n",
              " '65',\n",
              " '650',\n",
              " '65th',\n",
              " '66',\n",
              " '666',\n",
              " '67',\n",
              " '67th',\n",
              " '68th',\n",
              " '69',\n",
              " '692',\n",
              " '69p',\n",
              " '6am',\n",
              " '6b',\n",
              " '6balls',\n",
              " '6bâ',\n",
              " '6days',\n",
              " '6hrsð',\n",
              " '6kgtooheavytorunwiththo',\n",
              " '6p',\n",
              " '6pcs',\n",
              " '6pm',\n",
              " '6th',\n",
              " '6thclasses',\n",
              " '6thcousin',\n",
              " '6weeks',\n",
              " '6yearslater',\n",
              " '6yearsofpll',\n",
              " '6yearswithinfinite',\n",
              " '6yo',\n",
              " '6yrs',\n",
              " '6â',\n",
              " '6æ',\n",
              " '6ì',\n",
              " '70',\n",
              " '700',\n",
              " '7000',\n",
              " '700d',\n",
              " '702',\n",
              " '7040',\n",
              " '7044',\n",
              " '709',\n",
              " '70s',\n",
              " '70thannualtonyawards',\n",
              " '71',\n",
              " '711',\n",
              " '712',\n",
              " '713',\n",
              " '714',\n",
              " '715',\n",
              " '7150',\n",
              " '7190',\n",
              " '71st',\n",
              " '72',\n",
              " '720p',\n",
              " '727',\n",
              " '73',\n",
              " '74',\n",
              " ...]"
            ]
          },
          "metadata": {
            "tags": []
          },
          "execution_count": 13
        }
      ]
    },
    {
      "cell_type": "code",
      "metadata": {
        "colab": {
          "base_uri": "https://localhost:8080/"
        },
        "id": "li3idI3klgNO",
        "outputId": "537ee056-040b-4e6c-ebe7-7a0a6e5360b3"
      },
      "source": [
        "print(X.toarray())"
      ],
      "execution_count": null,
      "outputs": [
        {
          "output_type": "stream",
          "text": [
            "[[0 0 0 ... 0 0 0]\n",
            " [0 0 0 ... 0 0 0]\n",
            " [0 0 0 ... 0 0 0]\n",
            " ...\n",
            " [0 0 0 ... 0 0 0]\n",
            " [0 0 0 ... 0 0 0]\n",
            " [0 0 0 ... 0 0 0]]\n"
          ],
          "name": "stdout"
        }
      ]
    },
    {
      "cell_type": "markdown",
      "metadata": {
        "id": "mV-TFQJtn767"
      },
      "source": [
        "Split data into train, test split"
      ]
    },
    {
      "cell_type": "code",
      "metadata": {
        "colab": {
          "base_uri": "https://localhost:8080/"
        },
        "id": "d3rOo6u-nO8j",
        "outputId": "1c4b1878-4c44-422d-d348-7f59d3ddea70"
      },
      "source": [
        "x_train, x_test, y_train, y_test = train_test_split(X, Y, test_size= 0.2, random_state = 123)\n",
        "print(x_train.shape)\n",
        "print(x_test.shape)\n",
        "print(y_train.shape)\n",
        "print(y_test.shape)"
      ],
      "execution_count": null,
      "outputs": [
        {
          "output_type": "stream",
          "text": [
            "(25569, 41391)\n",
            "(6393, 41391)\n",
            "(25569,)\n",
            "(6393,)\n"
          ],
          "name": "stdout"
        }
      ]
    },
    {
      "cell_type": "code",
      "metadata": {
        "colab": {
          "base_uri": "https://localhost:8080/"
        },
        "id": "tURNXdQaaPWD",
        "outputId": "8b929700-40a7-444d-c55e-7260111c5ebd"
      },
      "source": [
        "svc = SVC(verbose=True)\n",
        "svc.fit(x_train,y_train)"
      ],
      "execution_count": null,
      "outputs": [
        {
          "output_type": "stream",
          "text": [
            "[LibSVM]"
          ],
          "name": "stdout"
        },
        {
          "output_type": "execute_result",
          "data": {
            "text/plain": [
              "SVC(C=1.0, break_ties=False, cache_size=200, class_weight=None, coef0=0.0,\n",
              "    decision_function_shape='ovr', degree=3, gamma='scale', kernel='rbf',\n",
              "    max_iter=-1, probability=False, random_state=None, shrinking=True,\n",
              "    tol=0.001, verbose=True)"
            ]
          },
          "metadata": {
            "tags": []
          },
          "execution_count": 16
        }
      ]
    },
    {
      "cell_type": "code",
      "metadata": {
        "id": "AhWMvLBKb6Kc"
      },
      "source": [
        "preds_svc = svc.predict(x_test)"
      ],
      "execution_count": null,
      "outputs": []
    },
    {
      "cell_type": "markdown",
      "metadata": {
        "id": "3MYNfEDXcojx"
      },
      "source": [
        "Evalution of the model"
      ]
    },
    {
      "cell_type": "code",
      "metadata": {
        "colab": {
          "base_uri": "https://localhost:8080/"
        },
        "id": "MmizjA3ecA97",
        "outputId": "13dc27a4-92ab-49e7-97ec-4dab147eb68a"
      },
      "source": [
        "acc_score_svc = accuracy_score(y_test,preds_svc)\n",
        "confu_matrx = confusion_matrix(y_test,preds_svc)\n",
        "classification_report = classification_report(y_test, preds_svc)\n",
        "print('The Accuracy of the model is: ', acc_score_svc)\n",
        "print(confu_matrx)\n",
        "print(classification_report)"
      ],
      "execution_count": null,
      "outputs": [
        {
          "output_type": "stream",
          "text": [
            "The Accuracy of the model is:  0.9558892538714219\n",
            "[[5956    4]\n",
            " [ 278  155]]\n",
            "              precision    recall  f1-score   support\n",
            "\n",
            "           0       0.96      1.00      0.98      5960\n",
            "           1       0.97      0.36      0.52       433\n",
            "\n",
            "    accuracy                           0.96      6393\n",
            "   macro avg       0.97      0.68      0.75      6393\n",
            "weighted avg       0.96      0.96      0.95      6393\n",
            "\n"
          ],
          "name": "stdout"
        }
      ]
    },
    {
      "cell_type": "markdown",
      "metadata": {
        "id": "DLVFjY1eEh5p"
      },
      "source": [
        "TF-IDF"
      ]
    },
    {
      "cell_type": "code",
      "metadata": {
        "id": "NRE7c15uEm0d"
      },
      "source": [
        "vect = TfidfVectorizer(stop_words={'english'})\n",
        "x_tfidf = vect.fit_transform(train['tweet'])"
      ],
      "execution_count": null,
      "outputs": []
    },
    {
      "cell_type": "code",
      "metadata": {
        "colab": {
          "base_uri": "https://localhost:8080/"
        },
        "id": "tNfP5DhNHE-4",
        "outputId": "12c3b4a7-4b64-4729-8ed9-388f58d6d26b"
      },
      "source": [
        "x_tfidf.shape"
      ],
      "execution_count": null,
      "outputs": [
        {
          "output_type": "execute_result",
          "data": {
            "text/plain": [
              "(31962, 41391)"
            ]
          },
          "metadata": {
            "tags": []
          },
          "execution_count": 22
        }
      ]
    },
    {
      "cell_type": "code",
      "metadata": {
        "colab": {
          "base_uri": "https://localhost:8080/"
        },
        "id": "WtcCoaEgHOK7",
        "outputId": "84e6aad1-ec5d-437b-8491-26a926323f8d"
      },
      "source": [
        "x_train_tf, x_test_tf, y_train_tf, y_test_tf = train_test_split(x_tfidf, Y, test_size= 0.2, random_state = 123)\n",
        "print(x_train_tf.shape)\n",
        "print(x_test_tf.shape)\n",
        "print(y_train_tf.shape)\n",
        "print(y_test_tf.shape)"
      ],
      "execution_count": null,
      "outputs": [
        {
          "output_type": "stream",
          "text": [
            "(25569, 41391)\n",
            "(6393, 41391)\n",
            "(25569,)\n",
            "(6393,)\n"
          ],
          "name": "stdout"
        }
      ]
    },
    {
      "cell_type": "markdown",
      "metadata": {
        "id": "hj7eSYsJIEqp"
      },
      "source": [
        "Apply svm with tfidf"
      ]
    },
    {
      "cell_type": "code",
      "metadata": {
        "colab": {
          "base_uri": "https://localhost:8080/"
        },
        "id": "o8nGd7o2HfYj",
        "outputId": "6f84f499-89c9-4b9f-bae6-082622a833fc"
      },
      "source": [
        "svc_tfidf = SVC(C=2,verbose=True)\n",
        "svc_tfidf.fit(x_train_tf,y_train_tf)"
      ],
      "execution_count": null,
      "outputs": [
        {
          "output_type": "stream",
          "text": [
            "[LibSVM]"
          ],
          "name": "stdout"
        },
        {
          "output_type": "execute_result",
          "data": {
            "text/plain": [
              "SVC(C=1.5, break_ties=False, cache_size=200, class_weight=None, coef0=0.0,\n",
              "    decision_function_shape='ovr', degree=3, gamma='scale', kernel='rbf',\n",
              "    max_iter=-1, probability=False, random_state=None, shrinking=True,\n",
              "    tol=0.001, verbose=True)"
            ]
          },
          "metadata": {
            "tags": []
          },
          "execution_count": 46
        }
      ]
    },
    {
      "cell_type": "code",
      "metadata": {
        "id": "tKrNvgT2JCVd"
      },
      "source": [
        "preds_svc_tf = svc_tfidf.predict(x_test_tf)"
      ],
      "execution_count": null,
      "outputs": []
    },
    {
      "cell_type": "code",
      "metadata": {
        "colab": {
          "base_uri": "https://localhost:8080/"
        },
        "id": "WR90QCPvJDOt",
        "outputId": "9ee64756-dff6-4c72-a440-b5ddcbf0fe98"
      },
      "source": [
        "preds_svc_tf"
      ],
      "execution_count": null,
      "outputs": [
        {
          "output_type": "execute_result",
          "data": {
            "text/plain": [
              "array([0, 0, 0, ..., 0, 0, 0])"
            ]
          },
          "metadata": {
            "tags": []
          },
          "execution_count": 37
        }
      ]
    },
    {
      "cell_type": "code",
      "metadata": {
        "colab": {
          "base_uri": "https://localhost:8080/"
        },
        "id": "d37PxMExLZCB",
        "outputId": "33bf733c-9d92-44bf-9ed6-c8d6c48f4b5b"
      },
      "source": [
        "y_test_tf"
      ],
      "execution_count": null,
      "outputs": [
        {
          "output_type": "execute_result",
          "data": {
            "text/plain": [
              "20284    0\n",
              "12981    0\n",
              "10224    0\n",
              "15932    0\n",
              "12152    0\n",
              "        ..\n",
              "24447    0\n",
              "25413    0\n",
              "26096    0\n",
              "988      0\n",
              "4621     0\n",
              "Name: label, Length: 6393, dtype: int64"
            ]
          },
          "metadata": {
            "tags": []
          },
          "execution_count": 41
        }
      ]
    },
    {
      "cell_type": "code",
      "metadata": {
        "colab": {
          "base_uri": "https://localhost:8080/"
        },
        "id": "ttoRXcvRJQ7R",
        "outputId": "72d7ccfd-3faf-4e6a-b604-81951e2a856c"
      },
      "source": [
        "acc_score_svc_tf = accuracy_score(y_test_tf,preds_svc_tf)\n",
        "print('The Accuracy of the model is: ', acc_score_svc_tf)"
      ],
      "execution_count": null,
      "outputs": [
        {
          "output_type": "stream",
          "text": [
            "The Accuracy of the model is:  0.9640231503206632\n"
          ],
          "name": "stdout"
        }
      ]
    },
    {
      "cell_type": "code",
      "metadata": {
        "colab": {
          "base_uri": "https://localhost:8080/"
        },
        "id": "4jQfVJjzJXYF",
        "outputId": "42c7461c-4016-420f-b9d7-1d0301143b8a"
      },
      "source": [
        "confu_matrx_tf = confusion_matrix(y_test_tf,preds_svc_tf)\n",
        "print(confu_matrx_tf)"
      ],
      "execution_count": null,
      "outputs": [
        {
          "output_type": "stream",
          "text": [
            "[[5954    6]\n",
            " [ 224  209]]\n"
          ],
          "name": "stdout"
        }
      ]
    },
    {
      "cell_type": "code",
      "metadata": {
        "colab": {
          "base_uri": "https://localhost:8080/",
          "height": 181
        },
        "id": "RWKQlbKFIQ_1",
        "outputId": "2f5bd136-fbac-4026-b684-ff9cf2f4631d"
      },
      "source": [
        "classifi_report_tf = classification_report(y_test_tf,preds_svc_tf)\n",
        "print(classifi_report_tf)"
      ],
      "execution_count": null,
      "outputs": [
        {
          "output_type": "error",
          "ename": "TypeError",
          "evalue": "ignored",
          "traceback": [
            "\u001b[0;31m---------------------------------------------------------------------------\u001b[0m",
            "\u001b[0;31mTypeError\u001b[0m                                 Traceback (most recent call last)",
            "\u001b[0;32m<ipython-input-50-e2254c505086>\u001b[0m in \u001b[0;36m<module>\u001b[0;34m()\u001b[0m\n\u001b[0;32m----> 1\u001b[0;31m \u001b[0mclassifi_report_tf\u001b[0m \u001b[0;34m=\u001b[0m \u001b[0mclassification_report\u001b[0m\u001b[0;34m(\u001b[0m\u001b[0my_test_tf\u001b[0m\u001b[0;34m,\u001b[0m\u001b[0mpreds_svc_tf\u001b[0m\u001b[0;34m)\u001b[0m\u001b[0;34m\u001b[0m\u001b[0;34m\u001b[0m\u001b[0m\n\u001b[0m\u001b[1;32m      2\u001b[0m \u001b[0mprint\u001b[0m\u001b[0;34m(\u001b[0m\u001b[0mclassifi_report_tf\u001b[0m\u001b[0;34m)\u001b[0m\u001b[0;34m\u001b[0m\u001b[0;34m\u001b[0m\u001b[0m\n",
            "\u001b[0;31mTypeError\u001b[0m: 'str' object is not callable"
          ]
        }
      ]
    },
    {
      "cell_type": "markdown",
      "metadata": {
        "id": "U12dTQyIjXHI"
      },
      "source": [
        "Multi layer perceptron"
      ]
    },
    {
      "cell_type": "code",
      "metadata": {
        "colab": {
          "base_uri": "https://localhost:8080/",
          "height": 232
        },
        "id": "nkDEAjO4jJDN",
        "outputId": "c8bf6ba9-aadd-42fd-9571-a36fd1eb9810"
      },
      "source": [
        "from sklearn.neural_network import MLPClassifier\n",
        "mlp = MLPClassifier(hidden_layer_sizes=(50,50,50), max_iter=600,random_state = 42)\n",
        "mlp.fit(x_train_tf, y_train_tf)\n",
        "preds_mlp = mlp.predict(x_test_tf)\n",
        "\n",
        "#print(clrep_mlp)"
      ],
      "execution_count": null,
      "outputs": [
        {
          "output_type": "error",
          "ename": "TypeError",
          "evalue": "ignored",
          "traceback": [
            "\u001b[0;31m---------------------------------------------------------------------------\u001b[0m",
            "\u001b[0;31mTypeError\u001b[0m                                 Traceback (most recent call last)",
            "\u001b[0;32m<ipython-input-24-fcc02c1cd943>\u001b[0m in \u001b[0;36m<module>\u001b[0;34m()\u001b[0m\n\u001b[1;32m      5\u001b[0m \u001b[0macc_mlp\u001b[0m \u001b[0;34m=\u001b[0m \u001b[0maccuracy_score\u001b[0m\u001b[0;34m(\u001b[0m\u001b[0my_test_tf\u001b[0m\u001b[0;34m,\u001b[0m \u001b[0mpreds_mlp\u001b[0m\u001b[0;34m)\u001b[0m\u001b[0;34m\u001b[0m\u001b[0;34m\u001b[0m\u001b[0m\n\u001b[1;32m      6\u001b[0m \u001b[0mconfusion_matrix_mlp\u001b[0m \u001b[0;34m=\u001b[0m \u001b[0mconfusion_matrix\u001b[0m\u001b[0;34m(\u001b[0m\u001b[0my_test_tf\u001b[0m\u001b[0;34m,\u001b[0m \u001b[0mpreds_mlp\u001b[0m\u001b[0;34m)\u001b[0m\u001b[0;34m\u001b[0m\u001b[0;34m\u001b[0m\u001b[0m\n\u001b[0;32m----> 7\u001b[0;31m \u001b[0mclrep_mlp\u001b[0m \u001b[0;34m=\u001b[0m \u001b[0mclassification_report\u001b[0m\u001b[0;34m(\u001b[0m\u001b[0my_test_tf\u001b[0m\u001b[0;34m,\u001b[0m \u001b[0mpreds_mlp\u001b[0m\u001b[0;34m)\u001b[0m\u001b[0;34m\u001b[0m\u001b[0;34m\u001b[0m\u001b[0m\n\u001b[0m\u001b[1;32m      8\u001b[0m \u001b[0mprint\u001b[0m\u001b[0;34m(\u001b[0m\u001b[0;34m'Accuracy score for MLP is: '\u001b[0m\u001b[0;34m,\u001b[0m \u001b[0macc_mlp\u001b[0m\u001b[0;34m)\u001b[0m\u001b[0;34m\u001b[0m\u001b[0;34m\u001b[0m\u001b[0m\n\u001b[1;32m      9\u001b[0m \u001b[0mprint\u001b[0m\u001b[0;34m(\u001b[0m\u001b[0mconfusion_matrix_mlp\u001b[0m\u001b[0;34m)\u001b[0m\u001b[0;34m\u001b[0m\u001b[0;34m\u001b[0m\u001b[0m\n",
            "\u001b[0;31mTypeError\u001b[0m: 'str' object is not callable"
          ]
        }
      ]
    },
    {
      "cell_type": "code",
      "metadata": {
        "colab": {
          "base_uri": "https://localhost:8080/"
        },
        "id": "DKRey5sAnd7N",
        "outputId": "ac9c04f2-09d0-4d7f-ba0f-b0d66e4393e6"
      },
      "source": [
        "acc_mlp = accuracy_score(y_test_tf, preds_mlp)\n",
        "confusion_matrix_mlp = confusion_matrix(y_test_tf, preds_mlp)\n",
        "\n",
        "print('Accuracy score for MLP is: ', acc_mlp)\n",
        "print(confusion_matrix_mlp)"
      ],
      "execution_count": null,
      "outputs": [
        {
          "output_type": "stream",
          "text": [
            "Accuracy score for MLP is:  0.9597997810104802\n",
            "[[5855  105]\n",
            " [ 152  281]]\n"
          ],
          "name": "stdout"
        }
      ]
    }
  ]
}